{
  "nbformat": 4,
  "nbformat_minor": 0,
  "metadata": {
    "colab": {
      "provenance": [],
      "authorship_tag": "ABX9TyMBJKxYx4NW7rjLJESXXqls",
      "include_colab_link": true
    },
    "kernelspec": {
      "name": "python3",
      "display_name": "Python 3"
    },
    "language_info": {
      "name": "python"
    }
  },
  "cells": [
    {
      "cell_type": "markdown",
      "metadata": {
        "id": "view-in-github",
        "colab_type": "text"
      },
      "source": [
        "<a href=\"https://colab.research.google.com/github/felixlys/SEM_Plot/blob/main/Analisis_Data_Responsi_menggunakan_Regresi_Linier_Berganda_dan_SEM_Plot.ipynb\" target=\"_parent\"><img src=\"https://colab.research.google.com/assets/colab-badge.svg\" alt=\"Open In Colab\"/></a>"
      ]
    },
    {
      "cell_type": "markdown",
      "source": [
        "# SEM Plot untuk Analisis Data Responsi"
      ],
      "metadata": {
        "id": "r3P_A_qMCHAE"
      }
    },
    {
      "cell_type": "code",
      "execution_count": 1,
      "metadata": {
        "colab": {
          "base_uri": "https://localhost:8080/",
          "height": 0
        },
        "collapsed": true,
        "id": "OQGsBfzWYNS9",
        "outputId": "ec371770-3e85-4f89-82b9-5b5bcfab7a3a"
      },
      "outputs": [
        {
          "output_type": "stream",
          "name": "stderr",
          "text": [
            "── \u001b[1mAttaching core tidyverse packages\u001b[22m ──────────────────────── tidyverse 2.0.0 ──\n",
            "\u001b[32m✔\u001b[39m \u001b[34mdplyr    \u001b[39m 1.1.4     \u001b[32m✔\u001b[39m \u001b[34mreadr    \u001b[39m 2.1.5\n",
            "\u001b[32m✔\u001b[39m \u001b[34mforcats  \u001b[39m 1.0.0     \u001b[32m✔\u001b[39m \u001b[34mstringr  \u001b[39m 1.5.1\n",
            "\u001b[32m✔\u001b[39m \u001b[34mggplot2  \u001b[39m 3.5.1     \u001b[32m✔\u001b[39m \u001b[34mtibble   \u001b[39m 3.2.1\n",
            "\u001b[32m✔\u001b[39m \u001b[34mlubridate\u001b[39m 1.9.3     \u001b[32m✔\u001b[39m \u001b[34mtidyr    \u001b[39m 1.3.1\n",
            "\u001b[32m✔\u001b[39m \u001b[34mpurrr    \u001b[39m 1.0.2     \n",
            "── \u001b[1mConflicts\u001b[22m ────────────────────────────────────────── tidyverse_conflicts() ──\n",
            "\u001b[31m✖\u001b[39m \u001b[34mdplyr\u001b[39m::\u001b[32mfilter()\u001b[39m masks \u001b[34mstats\u001b[39m::filter()\n",
            "\u001b[31m✖\u001b[39m \u001b[34mdplyr\u001b[39m::\u001b[32mlag()\u001b[39m    masks \u001b[34mstats\u001b[39m::lag()\n",
            "\u001b[36mℹ\u001b[39m Use the conflicted package (\u001b[3m\u001b[34m<http://conflicted.r-lib.org/>\u001b[39m\u001b[23m) to force all conflicts to become errors\n"
          ]
        }
      ],
      "source": [
        "library(tidyverse)#Merapikan data\n",
        "library(readxl)"
      ]
    },
    {
      "cell_type": "markdown",
      "source": [
        "Berikut merupakan data mengenai responsi dari 95 responden mengenai tingkat kegemaran yang diskalakan berdasarkan angka 1-5. Dengan deskripsi skala sebagai berikut :\n",
        "1.5:Sangat gemar\n",
        "2.4:Gemar\n",
        "3.3:Netral\n",
        "4.2:Tidak gemar\n",
        "5.1: Sangat tidak gemar\n",
        "Adapun pertanyaan yang diajukan adalah mengenai tingkat frekuensi konsumsi :\n",
        "1. Apakah anda seorang mahasiswa? (1: Mahasiswa,2. Bukan Mahasiswa)\n",
        "2. Apa tingkat pendidikan terakhir anda? (1: SD, 2: SMP, 3: SMA,4 :SARJANA)\n",
        "3. Seberapa gemar anda mendengarkan musik(POP''ROCK''REGGAE''JAZZ''SLOW''ROMANCE)? dengan skala sesuai deskripsi\n",
        "4. Seberapa gemar anda menonton film ('HORROR''COMEDY''ACTION''K.DRAMA''CARTOON''DOCUMENTARY''SCI.FI')?\n",
        "5. Seberapa gemar anda terhadap pelajaran('FOREIGN.LANG''MATH.SCIENCE''SOCIAL.LAW''ART')?\n",
        "6. Seberapa gemar anda terhadap media sosial('INSTAGRAM''TIKTOK''GAMES''TWITTER''OTHERS')?\n",
        "\n"
      ],
      "metadata": {
        "id": "jYolzqZ5CT7c"
      }
    },
    {
      "cell_type": "code",
      "source": [
        "datatabel<-read.csv(\"databaru_Buat Analisa.csv\")\n",
        "head(datatabel)\n",
        "names(datatabel)"
      ],
      "metadata": {
        "colab": {
          "base_uri": "https://localhost:8080/",
          "height": 341
        },
        "id": "OaAzEKgOZnVH",
        "outputId": "51f45c16-0fc3-452e-ce97-1f0773ea7495"
      },
      "execution_count": 8,
      "outputs": [
        {
          "output_type": "display_data",
          "data": {
            "text/html": [
              "<table class=\"dataframe\">\n",
              "<caption>A data.frame: 6 × 25</caption>\n",
              "<thead>\n",
              "\t<tr><th></th><th scope=col>X</th><th scope=col>STATUS</th><th scope=col>PENDIDIKAN</th><th scope=col>POP</th><th scope=col>ROCK</th><th scope=col>REGGAE</th><th scope=col>JAZZ</th><th scope=col>SLOW</th><th scope=col>ROMANCE</th><th scope=col>HORROR</th><th scope=col>⋯</th><th scope=col>SCI.FI</th><th scope=col>FOREIGN.LANG</th><th scope=col>MATH.SCIENCE</th><th scope=col>SOCIAL.LAW</th><th scope=col>ART</th><th scope=col>INSTAGRAM</th><th scope=col>TIKTOK</th><th scope=col>GAMES</th><th scope=col>TWITTER</th><th scope=col>OTHERS</th></tr>\n",
              "\t<tr><th></th><th scope=col>&lt;int&gt;</th><th scope=col>&lt;int&gt;</th><th scope=col>&lt;int&gt;</th><th scope=col>&lt;int&gt;</th><th scope=col>&lt;int&gt;</th><th scope=col>&lt;int&gt;</th><th scope=col>&lt;int&gt;</th><th scope=col>&lt;int&gt;</th><th scope=col>&lt;int&gt;</th><th scope=col>&lt;int&gt;</th><th scope=col>⋯</th><th scope=col>&lt;int&gt;</th><th scope=col>&lt;int&gt;</th><th scope=col>&lt;int&gt;</th><th scope=col>&lt;int&gt;</th><th scope=col>&lt;int&gt;</th><th scope=col>&lt;int&gt;</th><th scope=col>&lt;int&gt;</th><th scope=col>&lt;int&gt;</th><th scope=col>&lt;int&gt;</th><th scope=col>&lt;int&gt;</th></tr>\n",
              "</thead>\n",
              "<tbody>\n",
              "\t<tr><th scope=row>1</th><td>1</td><td>2</td><td>3</td><td>4</td><td>4</td><td>4</td><td>4</td><td>4</td><td>3</td><td>5</td><td>⋯</td><td>5</td><td>4</td><td>4</td><td>4</td><td>4</td><td>4</td><td>4</td><td>4</td><td>4</td><td>4</td></tr>\n",
              "\t<tr><th scope=row>2</th><td>2</td><td>2</td><td>1</td><td>5</td><td>5</td><td>5</td><td>5</td><td>5</td><td>5</td><td>4</td><td>⋯</td><td>5</td><td>5</td><td>4</td><td>4</td><td>5</td><td>4</td><td>5</td><td>5</td><td>4</td><td>4</td></tr>\n",
              "\t<tr><th scope=row>3</th><td>3</td><td>2</td><td>1</td><td>4</td><td>5</td><td>5</td><td>5</td><td>5</td><td>5</td><td>5</td><td>⋯</td><td>5</td><td>5</td><td>5</td><td>5</td><td>5</td><td>5</td><td>5</td><td>5</td><td>5</td><td>5</td></tr>\n",
              "\t<tr><th scope=row>4</th><td>4</td><td>2</td><td>2</td><td>4</td><td>4</td><td>4</td><td>4</td><td>4</td><td>5</td><td>5</td><td>⋯</td><td>5</td><td>5</td><td>5</td><td>5</td><td>5</td><td>4</td><td>4</td><td>4</td><td>4</td><td>4</td></tr>\n",
              "\t<tr><th scope=row>5</th><td>5</td><td>2</td><td>3</td><td>5</td><td>5</td><td>5</td><td>5</td><td>5</td><td>3</td><td>5</td><td>⋯</td><td>5</td><td>4</td><td>4</td><td>4</td><td>4</td><td>4</td><td>4</td><td>4</td><td>4</td><td>4</td></tr>\n",
              "\t<tr><th scope=row>6</th><td>6</td><td>2</td><td>2</td><td>4</td><td>4</td><td>5</td><td>5</td><td>4</td><td>5</td><td>4</td><td>⋯</td><td>5</td><td>4</td><td>3</td><td>4</td><td>4</td><td>4</td><td>4</td><td>5</td><td>4</td><td>4</td></tr>\n",
              "</tbody>\n",
              "</table>\n"
            ],
            "text/markdown": "\nA data.frame: 6 × 25\n\n| <!--/--> | X &lt;int&gt; | STATUS &lt;int&gt; | PENDIDIKAN &lt;int&gt; | POP &lt;int&gt; | ROCK &lt;int&gt; | REGGAE &lt;int&gt; | JAZZ &lt;int&gt; | SLOW &lt;int&gt; | ROMANCE &lt;int&gt; | HORROR &lt;int&gt; | ⋯ ⋯ | SCI.FI &lt;int&gt; | FOREIGN.LANG &lt;int&gt; | MATH.SCIENCE &lt;int&gt; | SOCIAL.LAW &lt;int&gt; | ART &lt;int&gt; | INSTAGRAM &lt;int&gt; | TIKTOK &lt;int&gt; | GAMES &lt;int&gt; | TWITTER &lt;int&gt; | OTHERS &lt;int&gt; |\n|---|---|---|---|---|---|---|---|---|---|---|---|---|---|---|---|---|---|---|---|---|---|\n| 1 | 1 | 2 | 3 | 4 | 4 | 4 | 4 | 4 | 3 | 5 | ⋯ | 5 | 4 | 4 | 4 | 4 | 4 | 4 | 4 | 4 | 4 |\n| 2 | 2 | 2 | 1 | 5 | 5 | 5 | 5 | 5 | 5 | 4 | ⋯ | 5 | 5 | 4 | 4 | 5 | 4 | 5 | 5 | 4 | 4 |\n| 3 | 3 | 2 | 1 | 4 | 5 | 5 | 5 | 5 | 5 | 5 | ⋯ | 5 | 5 | 5 | 5 | 5 | 5 | 5 | 5 | 5 | 5 |\n| 4 | 4 | 2 | 2 | 4 | 4 | 4 | 4 | 4 | 5 | 5 | ⋯ | 5 | 5 | 5 | 5 | 5 | 4 | 4 | 4 | 4 | 4 |\n| 5 | 5 | 2 | 3 | 5 | 5 | 5 | 5 | 5 | 3 | 5 | ⋯ | 5 | 4 | 4 | 4 | 4 | 4 | 4 | 4 | 4 | 4 |\n| 6 | 6 | 2 | 2 | 4 | 4 | 5 | 5 | 4 | 5 | 4 | ⋯ | 5 | 4 | 3 | 4 | 4 | 4 | 4 | 5 | 4 | 4 |\n\n",
            "text/latex": "A data.frame: 6 × 25\n\\begin{tabular}{r|lllllllllllllllllllll}\n  & X & STATUS & PENDIDIKAN & POP & ROCK & REGGAE & JAZZ & SLOW & ROMANCE & HORROR & ⋯ & SCI.FI & FOREIGN.LANG & MATH.SCIENCE & SOCIAL.LAW & ART & INSTAGRAM & TIKTOK & GAMES & TWITTER & OTHERS\\\\\n  & <int> & <int> & <int> & <int> & <int> & <int> & <int> & <int> & <int> & <int> & ⋯ & <int> & <int> & <int> & <int> & <int> & <int> & <int> & <int> & <int> & <int>\\\\\n\\hline\n\t1 & 1 & 2 & 3 & 4 & 4 & 4 & 4 & 4 & 3 & 5 & ⋯ & 5 & 4 & 4 & 4 & 4 & 4 & 4 & 4 & 4 & 4\\\\\n\t2 & 2 & 2 & 1 & 5 & 5 & 5 & 5 & 5 & 5 & 4 & ⋯ & 5 & 5 & 4 & 4 & 5 & 4 & 5 & 5 & 4 & 4\\\\\n\t3 & 3 & 2 & 1 & 4 & 5 & 5 & 5 & 5 & 5 & 5 & ⋯ & 5 & 5 & 5 & 5 & 5 & 5 & 5 & 5 & 5 & 5\\\\\n\t4 & 4 & 2 & 2 & 4 & 4 & 4 & 4 & 4 & 5 & 5 & ⋯ & 5 & 5 & 5 & 5 & 5 & 4 & 4 & 4 & 4 & 4\\\\\n\t5 & 5 & 2 & 3 & 5 & 5 & 5 & 5 & 5 & 3 & 5 & ⋯ & 5 & 4 & 4 & 4 & 4 & 4 & 4 & 4 & 4 & 4\\\\\n\t6 & 6 & 2 & 2 & 4 & 4 & 5 & 5 & 4 & 5 & 4 & ⋯ & 5 & 4 & 3 & 4 & 4 & 4 & 4 & 5 & 4 & 4\\\\\n\\end{tabular}\n",
            "text/plain": [
              "  X STATUS PENDIDIKAN POP ROCK REGGAE JAZZ SLOW ROMANCE HORROR ⋯ SCI.FI\n",
              "1 1 2      3          4   4    4      4    4    3       5      ⋯ 5     \n",
              "2 2 2      1          5   5    5      5    5    5       4      ⋯ 5     \n",
              "3 3 2      1          4   5    5      5    5    5       5      ⋯ 5     \n",
              "4 4 2      2          4   4    4      4    4    5       5      ⋯ 5     \n",
              "5 5 2      3          5   5    5      5    5    3       5      ⋯ 5     \n",
              "6 6 2      2          4   4    5      5    4    5       4      ⋯ 5     \n",
              "  FOREIGN.LANG MATH.SCIENCE SOCIAL.LAW ART INSTAGRAM TIKTOK GAMES TWITTER\n",
              "1 4            4            4          4   4         4      4     4      \n",
              "2 5            4            4          5   4         5      5     4      \n",
              "3 5            5            5          5   5         5      5     5      \n",
              "4 5            5            5          5   4         4      4     4      \n",
              "5 4            4            4          4   4         4      4     4      \n",
              "6 4            3            4          4   4         4      5     4      \n",
              "  OTHERS\n",
              "1 4     \n",
              "2 4     \n",
              "3 5     \n",
              "4 4     \n",
              "5 4     \n",
              "6 4     "
            ]
          },
          "metadata": {}
        },
        {
          "output_type": "display_data",
          "data": {
            "text/html": [
              "<style>\n",
              ".list-inline {list-style: none; margin:0; padding: 0}\n",
              ".list-inline>li {display: inline-block}\n",
              ".list-inline>li:not(:last-child)::after {content: \"\\00b7\"; padding: 0 .5ex}\n",
              "</style>\n",
              "<ol class=list-inline><li>'X'</li><li>'STATUS'</li><li>'PENDIDIKAN'</li><li>'POP'</li><li>'ROCK'</li><li>'REGGAE'</li><li>'JAZZ'</li><li>'SLOW'</li><li>'ROMANCE'</li><li>'HORROR'</li><li>'COMEDY'</li><li>'ACTION'</li><li>'K.DRAMA'</li><li>'CARTOON'</li><li>'DOCUMENTARY'</li><li>'SCI.FI'</li><li>'FOREIGN.LANG'</li><li>'MATH.SCIENCE'</li><li>'SOCIAL.LAW'</li><li>'ART'</li><li>'INSTAGRAM'</li><li>'TIKTOK'</li><li>'GAMES'</li><li>'TWITTER'</li><li>'OTHERS'</li></ol>\n"
            ],
            "text/markdown": "1. 'X'\n2. 'STATUS'\n3. 'PENDIDIKAN'\n4. 'POP'\n5. 'ROCK'\n6. 'REGGAE'\n7. 'JAZZ'\n8. 'SLOW'\n9. 'ROMANCE'\n10. 'HORROR'\n11. 'COMEDY'\n12. 'ACTION'\n13. 'K.DRAMA'\n14. 'CARTOON'\n15. 'DOCUMENTARY'\n16. 'SCI.FI'\n17. 'FOREIGN.LANG'\n18. 'MATH.SCIENCE'\n19. 'SOCIAL.LAW'\n20. 'ART'\n21. 'INSTAGRAM'\n22. 'TIKTOK'\n23. 'GAMES'\n24. 'TWITTER'\n25. 'OTHERS'\n\n\n",
            "text/latex": "\\begin{enumerate*}\n\\item 'X'\n\\item 'STATUS'\n\\item 'PENDIDIKAN'\n\\item 'POP'\n\\item 'ROCK'\n\\item 'REGGAE'\n\\item 'JAZZ'\n\\item 'SLOW'\n\\item 'ROMANCE'\n\\item 'HORROR'\n\\item 'COMEDY'\n\\item 'ACTION'\n\\item 'K.DRAMA'\n\\item 'CARTOON'\n\\item 'DOCUMENTARY'\n\\item 'SCI.FI'\n\\item 'FOREIGN.LANG'\n\\item 'MATH.SCIENCE'\n\\item 'SOCIAL.LAW'\n\\item 'ART'\n\\item 'INSTAGRAM'\n\\item 'TIKTOK'\n\\item 'GAMES'\n\\item 'TWITTER'\n\\item 'OTHERS'\n\\end{enumerate*}\n",
            "text/plain": [
              " [1] \"X\"            \"STATUS\"       \"PENDIDIKAN\"   \"POP\"          \"ROCK\"        \n",
              " [6] \"REGGAE\"       \"JAZZ\"         \"SLOW\"         \"ROMANCE\"      \"HORROR\"      \n",
              "[11] \"COMEDY\"       \"ACTION\"       \"K.DRAMA\"      \"CARTOON\"      \"DOCUMENTARY\" \n",
              "[16] \"SCI.FI\"       \"FOREIGN.LANG\" \"MATH.SCIENCE\" \"SOCIAL.LAW\"   \"ART\"         \n",
              "[21] \"INSTAGRAM\"    \"TIKTOK\"       \"GAMES\"        \"TWITTER\"      \"OTHERS\"      "
            ]
          },
          "metadata": {}
        }
      ]
    },
    {
      "cell_type": "markdown",
      "source": [
        "Misalkan, kita asumsikan bahwa nilai rata-rata tingkat kegemaran dari setiap genre musik merupakan tingkat kegemaran seorang responden terhadap musik, dan berlaku hal yang sama juga untuk filem. Nilai rata-rata tingkat kegemaran setiap subjek diasumsikan sebagai tingkat minat belajar. Kemudian, untuk nilai rata-rata tingkat kegemaran dari setiap media sosial diasumsikan sebagai lama konsumsi gadget yang diasumsikan berada pada selang $1\\leq t\\leq 5$ jam.\n",
        "Selanjutnya, akan dimodelkan data-data tersebut dengan model regresi dengan langkah langkah sebagai berikut : \\\n",
        "1. Mengambil nilai rata-rata dari setiap tingkat frekuensi kegemaran"
      ],
      "metadata": {
        "id": "qnUq4LDNCE4M"
      }
    },
    {
      "cell_type": "code",
      "source": [
        "rataan<-datatabel%>%\n",
        "  mutate(MUSIK=select(.,POP:ROMANCE)%>%rowMeans(),\n",
        "MOVIE=select(.,HORROR:SCI.FI)%>%rowMeans(),\n",
        "SUBJECT=select(.,FOREIGN.LANG:ART)%>%rowMeans(),\n",
        "TIMEONSCREEN=select(.,INSTAGRAM:OTHERS)%>%rowMeans())%>%\n",
        "  select(STATUS,MUSIK,MOVIE,SUBJECT,TIMEONSCREEN)\n",
        "head(rataan)"
      ],
      "metadata": {
        "colab": {
          "base_uri": "https://localhost:8080/",
          "height": 286
        },
        "id": "k00Ok68pJk6X",
        "outputId": "0422deb2-42f1-4f45-c265-8aff42f44b0e"
      },
      "execution_count": 15,
      "outputs": [
        {
          "output_type": "display_data",
          "data": {
            "text/html": [
              "<table class=\"dataframe\">\n",
              "<caption>A data.frame: 6 × 5</caption>\n",
              "<thead>\n",
              "\t<tr><th></th><th scope=col>STATUS</th><th scope=col>MUSIK</th><th scope=col>MOVIE</th><th scope=col>SUBJECT</th><th scope=col>TIMEONSCREEN</th></tr>\n",
              "\t<tr><th></th><th scope=col>&lt;int&gt;</th><th scope=col>&lt;dbl&gt;</th><th scope=col>&lt;dbl&gt;</th><th scope=col>&lt;dbl&gt;</th><th scope=col>&lt;dbl&gt;</th></tr>\n",
              "</thead>\n",
              "<tbody>\n",
              "\t<tr><th scope=row>1</th><td>2</td><td>3.833333</td><td>4.428571</td><td>4.00</td><td>4.0</td></tr>\n",
              "\t<tr><th scope=row>2</th><td>2</td><td>5.000000</td><td>4.714286</td><td>4.50</td><td>4.4</td></tr>\n",
              "\t<tr><th scope=row>3</th><td>2</td><td>4.833333</td><td>5.000000</td><td>5.00</td><td>5.0</td></tr>\n",
              "\t<tr><th scope=row>4</th><td>2</td><td>4.166667</td><td>5.000000</td><td>5.00</td><td>4.0</td></tr>\n",
              "\t<tr><th scope=row>5</th><td>2</td><td>4.666667</td><td>4.571429</td><td>4.00</td><td>4.0</td></tr>\n",
              "\t<tr><th scope=row>6</th><td>2</td><td>4.500000</td><td>4.714286</td><td>3.75</td><td>4.2</td></tr>\n",
              "</tbody>\n",
              "</table>\n"
            ],
            "text/markdown": "\nA data.frame: 6 × 5\n\n| <!--/--> | STATUS &lt;int&gt; | MUSIK &lt;dbl&gt; | MOVIE &lt;dbl&gt; | SUBJECT &lt;dbl&gt; | TIMEONSCREEN &lt;dbl&gt; |\n|---|---|---|---|---|---|\n| 1 | 2 | 3.833333 | 4.428571 | 4.00 | 4.0 |\n| 2 | 2 | 5.000000 | 4.714286 | 4.50 | 4.4 |\n| 3 | 2 | 4.833333 | 5.000000 | 5.00 | 5.0 |\n| 4 | 2 | 4.166667 | 5.000000 | 5.00 | 4.0 |\n| 5 | 2 | 4.666667 | 4.571429 | 4.00 | 4.0 |\n| 6 | 2 | 4.500000 | 4.714286 | 3.75 | 4.2 |\n\n",
            "text/latex": "A data.frame: 6 × 5\n\\begin{tabular}{r|lllll}\n  & STATUS & MUSIK & MOVIE & SUBJECT & TIMEONSCREEN\\\\\n  & <int> & <dbl> & <dbl> & <dbl> & <dbl>\\\\\n\\hline\n\t1 & 2 & 3.833333 & 4.428571 & 4.00 & 4.0\\\\\n\t2 & 2 & 5.000000 & 4.714286 & 4.50 & 4.4\\\\\n\t3 & 2 & 4.833333 & 5.000000 & 5.00 & 5.0\\\\\n\t4 & 2 & 4.166667 & 5.000000 & 5.00 & 4.0\\\\\n\t5 & 2 & 4.666667 & 4.571429 & 4.00 & 4.0\\\\\n\t6 & 2 & 4.500000 & 4.714286 & 3.75 & 4.2\\\\\n\\end{tabular}\n",
            "text/plain": [
              "  STATUS MUSIK    MOVIE    SUBJECT TIMEONSCREEN\n",
              "1 2      3.833333 4.428571 4.00    4.0         \n",
              "2 2      5.000000 4.714286 4.50    4.4         \n",
              "3 2      4.833333 5.000000 5.00    5.0         \n",
              "4 2      4.166667 5.000000 5.00    4.0         \n",
              "5 2      4.666667 4.571429 4.00    4.0         \n",
              "6 2      4.500000 4.714286 3.75    4.2         "
            ]
          },
          "metadata": {}
        }
      ]
    },
    {
      "cell_type": "markdown",
      "source": [
        "2. Melakukan uji Realibilitas dan Validitas untuk setiap variabel genre musik,film dan media sosial \\\n",
        "Uji Validitas : Mengukur Sejauh mana hasil dapat  mengukur dengan benar apa yang seharusnya diukur\\\n",
        "Uji Realibilitas : Mengukur sejauh mana hasil yang sama bsa diulangi jika menggunakan kondisi yang sama"
      ],
      "metadata": {
        "id": "SNaTW6LjMkVX"
      }
    },
    {
      "cell_type": "code",
      "source": [
        "install.packages(\"psych\")\n",
        "library(psych)\n",
        "datatabel%>%\n",
        "  select(POP:ROMANCE)%>%\n",
        "  alpha()\n"
      ],
      "metadata": {
        "colab": {
          "base_uri": "https://localhost:8080/",
          "height": 937
        },
        "id": "lGqBlqPNM8q5",
        "outputId": "98427471-0571-4ec5-8279-84e06b6fa063"
      },
      "execution_count": 18,
      "outputs": [
        {
          "output_type": "stream",
          "name": "stderr",
          "text": [
            "Installing package into ‘/usr/local/lib/R/site-library’\n",
            "(as ‘lib’ is unspecified)\n",
            "\n",
            "also installing the dependencies ‘mnormt’, ‘GPArotation’\n",
            "\n",
            "\n",
            "\n",
            "Attaching package: ‘psych’\n",
            "\n",
            "\n",
            "The following objects are masked from ‘package:ggplot2’:\n",
            "\n",
            "    %+%, alpha\n",
            "\n",
            "\n"
          ]
        },
        {
          "output_type": "display_data",
          "data": {
            "text/plain": [
              "\n",
              "Reliability analysis   \n",
              "Call: alpha(x = .)\n",
              "\n",
              "  raw_alpha std.alpha G6(smc) average_r S/N   ase mean   sd median_r\n",
              "      0.76      0.78    0.83      0.38 3.6 0.039  4.2 0.49     0.37\n",
              "\n",
              "    95% confidence boundaries \n",
              "         lower alpha upper\n",
              "Feldt     0.67  0.76  0.82\n",
              "Duhachek  0.68  0.76  0.83\n",
              "\n",
              " Reliability if an item is dropped:\n",
              "        raw_alpha std.alpha G6(smc) average_r S/N alpha se var.r med.r\n",
              "POP          0.79      0.79    0.84      0.44 3.9    0.035 0.068  0.51\n",
              "ROCK         0.68      0.71    0.74      0.33 2.4    0.053 0.057  0.32\n",
              "REGGAE       0.67      0.71    0.73      0.33 2.5    0.053 0.065  0.35\n",
              "JAZZ         0.67      0.70    0.73      0.32 2.4    0.054 0.057  0.33\n",
              "SLOW         0.69      0.72    0.75      0.34 2.6    0.051 0.062  0.32\n",
              "ROMANCE      0.81      0.84    0.85      0.51 5.1    0.033 0.031  0.51\n",
              "\n",
              " Item statistics \n",
              "         n raw.r std.r r.cor r.drop mean   sd\n",
              "POP     95  0.62  0.56  0.40   0.34  3.8 0.99\n",
              "ROCK    95  0.79  0.81  0.81   0.69  4.3 0.63\n",
              "REGGAE  95  0.79  0.80  0.80   0.66  4.3 0.73\n",
              "JAZZ    95  0.81  0.82  0.83   0.71  4.4 0.65\n",
              "SLOW    95  0.75  0.78  0.76   0.64  4.3 0.60\n",
              "ROMANCE 95  0.38  0.39  0.19   0.14  4.4 0.71\n",
              "\n",
              "Non missing response frequency for each item\n",
              "           1    2    3    4    5 miss\n",
              "POP     0.03 0.11 0.11 0.56 0.20    0\n",
              "ROCK    0.00 0.01 0.06 0.57 0.36    0\n",
              "REGGAE  0.00 0.02 0.09 0.45 0.43    0\n",
              "JAZZ    0.00 0.02 0.02 0.47 0.48    0\n",
              "SLOW    0.00 0.01 0.04 0.59 0.36    0\n",
              "ROMANCE 0.00 0.01 0.09 0.37 0.53    0"
            ]
          },
          "metadata": {}
        }
      ]
    },
    {
      "cell_type": "markdown",
      "source": [
        "*   Tampak bahwa raw_alpha=0.86>0.6/0.7 (Harus lebih besar daripada 0.6 atau 0.7 tergantung case) sehingga variabel POP Reliable atau dapat dipercaya.\n",
        "*   Lihat raw.r, raw hitung nya ini harus lebih besar daripada raw/r-table. Cari di tabel r df=95-2=93 ambil signifikasi 5%. Hasil 0.68>0.2017(kriteria POP Valid).\n",
        "\n",
        "Catatan : Analisis ini juga dilakukan dengan cara yang sama untuk variabel lainnya\n",
        "\n",
        "2. Membuat Model Regresi Linier"
      ],
      "metadata": {
        "id": "OEbanHHdN76S"
      }
    },
    {
      "cell_type": "code",
      "source": [
        "modelregresi<-lm(TIMEONSCREEN~MUSIK+MOVIE+SUBJECT,data=rataan)\n",
        "summary(modelregresi)"
      ],
      "metadata": {
        "colab": {
          "base_uri": "https://localhost:8080/",
          "height": 364
        },
        "id": "gRGGQYb1OZif",
        "outputId": "79427571-2820-4ed5-fc38-58ab9a3f2bd1"
      },
      "execution_count": 19,
      "outputs": [
        {
          "output_type": "display_data",
          "data": {
            "text/plain": [
              "\n",
              "Call:\n",
              "lm(formula = TIMEONSCREEN ~ MUSIK + MOVIE + SUBJECT, data = rataan)\n",
              "\n",
              "Residuals:\n",
              "     Min       1Q   Median       3Q      Max \n",
              "-2.32326 -0.18887  0.00338  0.25282  1.02954 \n",
              "\n",
              "Coefficients:\n",
              "            Estimate Std. Error t value Pr(>|t|)    \n",
              "(Intercept)  1.19764    0.47798   2.506 0.014001 *  \n",
              "MUSIK        0.24868    0.11005   2.260 0.026228 *  \n",
              "MOVIE        0.14390    0.09728   1.479 0.142528    \n",
              "SUBJECT      0.32764    0.09289   3.527 0.000661 ***\n",
              "---\n",
              "Signif. codes:  0 ‘***’ 0.001 ‘**’ 0.01 ‘*’ 0.05 ‘.’ 0.1 ‘ ’ 1\n",
              "\n",
              "Residual standard error: 0.4408 on 91 degrees of freedom\n",
              "Multiple R-squared:  0.328,\tAdjusted R-squared:  0.3058 \n",
              "F-statistic:  14.8 on 3 and 91 DF,  p-value: 6.294e-08\n"
            ]
          },
          "metadata": {}
        }
      ]
    },
    {
      "cell_type": "markdown",
      "source": [
        "Didapatkan model regresi linier sebagai berikut\n",
        "$$Y=1.19764+0.24868 X_{1}+0.14390 X_{2}+0.32764X_{3}$$\n",
        "dengan $Y$:Lamanya konsumsi gadget, $X_{1}$: Tingkat kegemaran responden terhadap musik,$X_{2}$: Tingkat kegemaran responden terhadap film, $X_{3}$ tingkat kegemaran sesorang terhadap Pelajaran. Nilai $Pr(>|t|)/pval$ menunjukkan tingkat keberpengaruhan variabel-variabel independen terhadap nilai $Y$, sebagai contoh MUSIK memiliki $pval=0.026< 0.05$ sehingga MUSIK berpengaruh signifikan terhadap nilai $Y$, MOVIE memiliki  $pval=0.142> 0.05$ sehingga MOVIE tidak berpengaruh signifikan terhadap nilai $Y$."
      ],
      "metadata": {
        "id": "u_VK8EpkPBwI"
      }
    },
    {
      "cell_type": "markdown",
      "source": [
        "2. Uji Asumsi Klasik\n",
        "\n",
        "Ada 4 poin yang harus dipenuhi untuk suatu model regresi linier\n",
        "\n",
        "\n",
        "*   **Uji Residual**: uji kenormalan residual\n",
        "\n",
        "\n",
        "\n"
      ],
      "metadata": {
        "id": "NkS3SBK3QOVZ"
      }
    },
    {
      "cell_type": "code",
      "source": [
        "install.packages(\"nortest\")\n",
        "library(nortest)\n",
        "lillie.test(modelregresi$residuals)"
      ],
      "metadata": {
        "colab": {
          "base_uri": "https://localhost:8080/",
          "height": 156
        },
        "id": "ep0MpBz8RX-L",
        "outputId": "d0acb60d-2483-445e-a1ca-f70cf2c09e73"
      },
      "execution_count": 21,
      "outputs": [
        {
          "output_type": "stream",
          "name": "stderr",
          "text": [
            "Installing package into ‘/usr/local/lib/R/site-library’\n",
            "(as ‘lib’ is unspecified)\n",
            "\n"
          ]
        },
        {
          "output_type": "display_data",
          "data": {
            "text/plain": [
              "\n",
              "\tLilliefors (Kolmogorov-Smirnov) normality test\n",
              "\n",
              "data:  modelregresi$residuals\n",
              "D = 0.09926, p-value = 0.02193\n"
            ]
          },
          "metadata": {}
        }
      ]
    },
    {
      "cell_type": "markdown",
      "source": [
        "Karena $pvalue=0.01584 < 0.05$ artinya model ini memiliki residual yg tidak terdistribusi normal. Oleh karena itu, salah satu cara agar residualnya terdistribusi normal, kita harus membuang data-data outlier. Untuk mengetahui data-data outlier, digunakan boxplot untuk melihat nya."
      ],
      "metadata": {
        "id": "O44ZNgvaRjrJ"
      }
    },
    {
      "cell_type": "code",
      "source": [
        "boxplot(modelregresi$residuals)"
      ],
      "metadata": {
        "colab": {
          "base_uri": "https://localhost:8080/",
          "height": 437
        },
        "id": "D0KTAA5JSQnh",
        "outputId": "7ede851f-4aa7-45a6-8faf-c3ad2bc0b939"
      },
      "execution_count": 22,
      "outputs": [
        {
          "output_type": "display_data",
          "data": {
            "text/plain": [
              "plot without title"
            ],
            "image/png": "[encoded data removed]"
          },
          "metadata": {
            "image/png": {
              "width": 420,
              "height": 420
            }
          }
        }
      ]
    },
    {
      "cell_type": "markdown",
      "source": [
        "Tampak bahwa, data residual yang direpresentasikan sebagai bulat-bulatan kecil merupakan data-data outlier."
      ],
      "metadata": {
        "id": "gzZ9QhVkSSPw"
      }
    },
    {
      "cell_type": "code",
      "source": [
        "rataan1<-rataan%>%\n",
        "  mutate(res=modelregresi$residuals)%>%\n",
        "  filter(res>-2)\n",
        "head(rataan1)"
      ],
      "metadata": {
        "colab": {
          "base_uri": "https://localhost:8080/",
          "height": 286
        },
        "id": "cDl-WxssSgXE",
        "outputId": "6f329434-29fd-4011-e183-476750a0bec5"
      },
      "execution_count": 32,
      "outputs": [
        {
          "output_type": "display_data",
          "data": {
            "text/html": [
              "<table class=\"dataframe\">\n",
              "<caption>A data.frame: 6 × 6</caption>\n",
              "<thead>\n",
              "\t<tr><th></th><th scope=col>STATUS</th><th scope=col>MUSIK</th><th scope=col>MOVIE</th><th scope=col>SUBJECT</th><th scope=col>TIMEONSCREEN</th><th scope=col>res</th></tr>\n",
              "\t<tr><th></th><th scope=col>&lt;int&gt;</th><th scope=col>&lt;dbl&gt;</th><th scope=col>&lt;dbl&gt;</th><th scope=col>&lt;dbl&gt;</th><th scope=col>&lt;dbl&gt;</th><th scope=col>&lt;dbl&gt;</th></tr>\n",
              "</thead>\n",
              "<tbody>\n",
              "\t<tr><th scope=row>1</th><td>2</td><td>3.833333</td><td>4.428571</td><td>4.00</td><td>4.0</td><td>-0.09874801</td></tr>\n",
              "\t<tr><th scope=row>2</th><td>2</td><td>5.000000</td><td>4.714286</td><td>4.50</td><td>4.4</td><td>-0.19381236</td></tr>\n",
              "\t<tr><th scope=row>3</th><td>2</td><td>4.833333</td><td>5.000000</td><td>5.00</td><td>5.0</td><td> 0.24270318</td></tr>\n",
              "\t<tr><th scope=row>4</th><td>2</td><td>4.166667</td><td>5.000000</td><td>5.00</td><td>4.0</td><td>-0.59150687</td></tr>\n",
              "\t<tr><th scope=row>5</th><td>2</td><td>4.666667</td><td>4.571429</td><td>4.00</td><td>4.0</td><td>-0.32654258</td></tr>\n",
              "\t<tr><th scope=row>6</th><td>2</td><td>4.500000</td><td>4.714286</td><td>3.75</td><td>4.2</td><td>-0.02374340</td></tr>\n",
              "</tbody>\n",
              "</table>\n"
            ],
            "text/markdown": "\nA data.frame: 6 × 6\n\n| <!--/--> | STATUS &lt;int&gt; | MUSIK &lt;dbl&gt; | MOVIE &lt;dbl&gt; | SUBJECT &lt;dbl&gt; | TIMEONSCREEN &lt;dbl&gt; | res &lt;dbl&gt; |\n|---|---|---|---|---|---|---|\n| 1 | 2 | 3.833333 | 4.428571 | 4.00 | 4.0 | -0.09874801 |\n| 2 | 2 | 5.000000 | 4.714286 | 4.50 | 4.4 | -0.19381236 |\n| 3 | 2 | 4.833333 | 5.000000 | 5.00 | 5.0 |  0.24270318 |\n| 4 | 2 | 4.166667 | 5.000000 | 5.00 | 4.0 | -0.59150687 |\n| 5 | 2 | 4.666667 | 4.571429 | 4.00 | 4.0 | -0.32654258 |\n| 6 | 2 | 4.500000 | 4.714286 | 3.75 | 4.2 | -0.02374340 |\n\n",
            "text/latex": "A data.frame: 6 × 6\n\\begin{tabular}{r|llllll}\n  & STATUS & MUSIK & MOVIE & SUBJECT & TIMEONSCREEN & res\\\\\n  & <int> & <dbl> & <dbl> & <dbl> & <dbl> & <dbl>\\\\\n\\hline\n\t1 & 2 & 3.833333 & 4.428571 & 4.00 & 4.0 & -0.09874801\\\\\n\t2 & 2 & 5.000000 & 4.714286 & 4.50 & 4.4 & -0.19381236\\\\\n\t3 & 2 & 4.833333 & 5.000000 & 5.00 & 5.0 &  0.24270318\\\\\n\t4 & 2 & 4.166667 & 5.000000 & 5.00 & 4.0 & -0.59150687\\\\\n\t5 & 2 & 4.666667 & 4.571429 & 4.00 & 4.0 & -0.32654258\\\\\n\t6 & 2 & 4.500000 & 4.714286 & 3.75 & 4.2 & -0.02374340\\\\\n\\end{tabular}\n",
            "text/plain": [
              "  STATUS MUSIK    MOVIE    SUBJECT TIMEONSCREEN res        \n",
              "1 2      3.833333 4.428571 4.00    4.0          -0.09874801\n",
              "2 2      5.000000 4.714286 4.50    4.4          -0.19381236\n",
              "3 2      4.833333 5.000000 5.00    5.0           0.24270318\n",
              "4 2      4.166667 5.000000 5.00    4.0          -0.59150687\n",
              "5 2      4.666667 4.571429 4.00    4.0          -0.32654258\n",
              "6 2      4.500000 4.714286 3.75    4.2          -0.02374340"
            ]
          },
          "metadata": {}
        }
      ]
    },
    {
      "cell_type": "markdown",
      "source": [
        "Perhatikan bahwa rataan1 merupakan data yang sudah terbebas dari data yang nilai residualnya(res<-2). Selanjutnya, akan dilakukan pembentukan model regresi linier dari data-data yang telah dibersihkan dari outlier"
      ],
      "metadata": {
        "id": "Z80kO1W5S5Ih"
      }
    },
    {
      "cell_type": "code",
      "source": [
        "modelregresi1<-lm(TIMEONSCREEN~MUSIK+MOVIE+SUBJECT,data=rataan1)\n",
        "summary(modelregresi1)"
      ],
      "metadata": {
        "colab": {
          "base_uri": "https://localhost:8080/",
          "height": 364
        },
        "id": "vsSztpq9TKNK",
        "outputId": "be088d13-6a2e-443d-9eaf-ac072f9f9663"
      },
      "execution_count": 33,
      "outputs": [
        {
          "output_type": "display_data",
          "data": {
            "text/plain": [
              "\n",
              "Call:\n",
              "lm(formula = TIMEONSCREEN ~ MUSIK + MOVIE + SUBJECT, data = rataan1)\n",
              "\n",
              "Residuals:\n",
              "     Min       1Q   Median       3Q      Max \n",
              "-1.13766 -0.21988  0.00186  0.22946  1.05356 \n",
              "\n",
              "Coefficients:\n",
              "            Estimate Std. Error t value Pr(>|t|)    \n",
              "(Intercept)  1.31551    0.39511   3.329  0.00126 ** \n",
              "MUSIK        0.14743    0.09217   1.600  0.11319    \n",
              "MOVIE        0.12069    0.08041   1.501  0.13687    \n",
              "SUBJECT      0.42780    0.07820   5.470    4e-07 ***\n",
              "---\n",
              "Signif. codes:  0 ‘***’ 0.001 ‘**’ 0.01 ‘*’ 0.05 ‘.’ 0.1 ‘ ’ 1\n",
              "\n",
              "Residual standard error: 0.364 on 90 degrees of freedom\n",
              "Multiple R-squared:  0.4308,\tAdjusted R-squared:  0.4118 \n",
              "F-statistic:  22.7 on 3 and 90 DF,  p-value: 4.941e-11\n"
            ]
          },
          "metadata": {}
        }
      ]
    },
    {
      "cell_type": "markdown",
      "source": [
        "Didapatkan model regresi linier sebagai berikut\n",
        "$$Y=1.31551+0.14743 X_{1}+ 0.12069 X_{2}+0.42780X_{3}$$\n",
        "dengan $Y$:Lamanya konsumsi gadget, $X_{1}$: Tingkat kegemaran responden terhadap musik,$X_{2}$: Tingkat kegemaran responden terhadap film, $X_{3}$ tingkat kegemaran sesorang terhadap Pelajaran. Selanjutnya, dilakukan uji residual"
      ],
      "metadata": {
        "id": "NX_n7Nl5Tp35"
      }
    },
    {
      "cell_type": "code",
      "source": [
        "lillie.test(modelregresi1$residuals)"
      ],
      "metadata": {
        "colab": {
          "base_uri": "https://localhost:8080/",
          "height": 104
        },
        "id": "7a68JvLjUILp",
        "outputId": "2557658f-8671-4c4b-b68e-4ea87b637c33"
      },
      "execution_count": 34,
      "outputs": [
        {
          "output_type": "display_data",
          "data": {
            "text/plain": [
              "\n",
              "\tLilliefors (Kolmogorov-Smirnov) normality test\n",
              "\n",
              "data:  modelregresi1$residuals\n",
              "D = 0.079905, p-value = 0.1471\n"
            ]
          },
          "metadata": {}
        }
      ]
    },
    {
      "cell_type": "markdown",
      "source": [
        "Karena $pvalue=0.1471 > 0.05$ artinya model ini memiliki residual yang terdistribusi normal.\\\n",
        "\n",
        "Proses berikutnya adalah menggabungkan data residual terbaru (yang sudah terdistribusi normal) dengan data regresi sebelumnya"
      ],
      "metadata": {
        "id": "BQLzJFGdUQXI"
      }
    },
    {
      "cell_type": "code",
      "source": [
        "library(MASS)\n",
        "rataan1<-rataan1%>%\n",
        "  dplyr::select(-res)%>%#menghapus residual sebelumnya\n",
        "  mutate(residual=modelregresi1$residuals,#kita mengisi data residual yang baru\n",
        "         fitvalue=modelregresi1$fitted.values,\n",
        "         studentizedres=studres(modelregresi1))\n",
        "head(rataan1)"
      ],
      "metadata": {
        "colab": {
          "base_uri": "https://localhost:8080/",
          "height": 286
        },
        "id": "qTd9irqaUYGZ",
        "outputId": "ae7a393c-5849-4250-8c6a-781ead7a1710"
      },
      "execution_count": 35,
      "outputs": [
        {
          "output_type": "display_data",
          "data": {
            "text/html": [
              "<table class=\"dataframe\">\n",
              "<caption>A data.frame: 6 × 8</caption>\n",
              "<thead>\n",
              "\t<tr><th></th><th scope=col>STATUS</th><th scope=col>MUSIK</th><th scope=col>MOVIE</th><th scope=col>SUBJECT</th><th scope=col>TIMEONSCREEN</th><th scope=col>residual</th><th scope=col>fitvalue</th><th scope=col>studentizedres</th></tr>\n",
              "\t<tr><th></th><th scope=col>&lt;int&gt;</th><th scope=col>&lt;dbl&gt;</th><th scope=col>&lt;dbl&gt;</th><th scope=col>&lt;dbl&gt;</th><th scope=col>&lt;dbl&gt;</th><th scope=col>&lt;dbl&gt;</th><th scope=col>&lt;dbl&gt;</th><th scope=col>&lt;dbl&gt;</th></tr>\n",
              "</thead>\n",
              "<tbody>\n",
              "\t<tr><th scope=row>1</th><td>2</td><td>3.833333</td><td>4.428571</td><td>4.00</td><td>4.0</td><td>-0.12634092</td><td>4.126341</td><td>-0.3501104</td></tr>\n",
              "\t<tr><th scope=row>2</th><td>2</td><td>5.000000</td><td>4.714286</td><td>4.50</td><td>4.4</td><td>-0.14672783</td><td>4.546728</td><td>-0.4093071</td></tr>\n",
              "\t<tr><th scope=row>3</th><td>2</td><td>4.833333</td><td>5.000000</td><td>5.00</td><td>5.0</td><td> 0.22946386</td><td>4.770536</td><td> 0.6401726</td></tr>\n",
              "\t<tr><th scope=row>4</th><td>2</td><td>4.166667</td><td>5.000000</td><td>5.00</td><td>4.0</td><td>-0.67224684</td><td>4.672247</td><td>-1.9217865</td></tr>\n",
              "\t<tr><th scope=row>5</th><td>2</td><td>4.666667</td><td>4.571429</td><td>4.00</td><td>4.0</td><td>-0.26644378</td><td>4.266444</td><td>-0.7432205</td></tr>\n",
              "\t<tr><th scope=row>6</th><td>2</td><td>4.500000</td><td>4.714286</td><td>3.75</td><td>4.2</td><td> 0.04783638</td><td>4.152164</td><td> 0.1339432</td></tr>\n",
              "</tbody>\n",
              "</table>\n"
            ],
            "text/markdown": "\nA data.frame: 6 × 8\n\n| <!--/--> | STATUS &lt;int&gt; | MUSIK &lt;dbl&gt; | MOVIE &lt;dbl&gt; | SUBJECT &lt;dbl&gt; | TIMEONSCREEN &lt;dbl&gt; | residual &lt;dbl&gt; | fitvalue &lt;dbl&gt; | studentizedres &lt;dbl&gt; |\n|---|---|---|---|---|---|---|---|---|\n| 1 | 2 | 3.833333 | 4.428571 | 4.00 | 4.0 | -0.12634092 | 4.126341 | -0.3501104 |\n| 2 | 2 | 5.000000 | 4.714286 | 4.50 | 4.4 | -0.14672783 | 4.546728 | -0.4093071 |\n| 3 | 2 | 4.833333 | 5.000000 | 5.00 | 5.0 |  0.22946386 | 4.770536 |  0.6401726 |\n| 4 | 2 | 4.166667 | 5.000000 | 5.00 | 4.0 | -0.67224684 | 4.672247 | -1.9217865 |\n| 5 | 2 | 4.666667 | 4.571429 | 4.00 | 4.0 | -0.26644378 | 4.266444 | -0.7432205 |\n| 6 | 2 | 4.500000 | 4.714286 | 3.75 | 4.2 |  0.04783638 | 4.152164 |  0.1339432 |\n\n",
            "text/latex": "A data.frame: 6 × 8\n\\begin{tabular}{r|llllllll}\n  & STATUS & MUSIK & MOVIE & SUBJECT & TIMEONSCREEN & residual & fitvalue & studentizedres\\\\\n  & <int> & <dbl> & <dbl> & <dbl> & <dbl> & <dbl> & <dbl> & <dbl>\\\\\n\\hline\n\t1 & 2 & 3.833333 & 4.428571 & 4.00 & 4.0 & -0.12634092 & 4.126341 & -0.3501104\\\\\n\t2 & 2 & 5.000000 & 4.714286 & 4.50 & 4.4 & -0.14672783 & 4.546728 & -0.4093071\\\\\n\t3 & 2 & 4.833333 & 5.000000 & 5.00 & 5.0 &  0.22946386 & 4.770536 &  0.6401726\\\\\n\t4 & 2 & 4.166667 & 5.000000 & 5.00 & 4.0 & -0.67224684 & 4.672247 & -1.9217865\\\\\n\t5 & 2 & 4.666667 & 4.571429 & 4.00 & 4.0 & -0.26644378 & 4.266444 & -0.7432205\\\\\n\t6 & 2 & 4.500000 & 4.714286 & 3.75 & 4.2 &  0.04783638 & 4.152164 &  0.1339432\\\\\n\\end{tabular}\n",
            "text/plain": [
              "  STATUS MUSIK    MOVIE    SUBJECT TIMEONSCREEN residual    fitvalue\n",
              "1 2      3.833333 4.428571 4.00    4.0          -0.12634092 4.126341\n",
              "2 2      5.000000 4.714286 4.50    4.4          -0.14672783 4.546728\n",
              "3 2      4.833333 5.000000 5.00    5.0           0.22946386 4.770536\n",
              "4 2      4.166667 5.000000 5.00    4.0          -0.67224684 4.672247\n",
              "5 2      4.666667 4.571429 4.00    4.0          -0.26644378 4.266444\n",
              "6 2      4.500000 4.714286 3.75    4.2           0.04783638 4.152164\n",
              "  studentizedres\n",
              "1 -0.3501104    \n",
              "2 -0.4093071    \n",
              "3  0.6401726    \n",
              "4 -1.9217865    \n",
              "5 -0.7432205    \n",
              "6  0.1339432    "
            ]
          },
          "metadata": {}
        }
      ]
    },
    {
      "cell_type": "markdown",
      "source": [
        "*  **Uji Multikolinieritas**:\n",
        "Tujuan dari uji multikolinieritas adalah untuk mendeteksi apakah terdapat korelasi yang tinggi di antara variabel independen (predictor) dalam model regresi.\n",
        "Apakah ada dua atau lebih variabel independen memiliki hubungan linear yang kuat\n",
        "\n"
      ],
      "metadata": {
        "id": "2uquraJje9-M"
      }
    },
    {
      "cell_type": "code",
      "source": [
        "install.packages(\"car\")\n",
        "library(car)\n",
        "vif(modelregresi1)"
      ],
      "metadata": {
        "colab": {
          "base_uri": "https://localhost:8080/",
          "height": 523
        },
        "id": "uAd0Npwffyab",
        "outputId": "635e7424-1658-4cbb-899e-b0656d56b474"
      },
      "execution_count": 36,
      "outputs": [
        {
          "output_type": "stream",
          "name": "stderr",
          "text": [
            "Installing package into ‘/usr/local/lib/R/site-library’\n",
            "(as ‘lib’ is unspecified)\n",
            "\n",
            "also installing the dependencies ‘cowplot’, ‘Deriv’, ‘microbenchmark’, ‘numDeriv’, ‘doBy’, ‘SparseM’, ‘MatrixModels’, ‘minqa’, ‘nloptr’, ‘RcppEigen’, ‘carData’, ‘abind’, ‘Formula’, ‘pbkrtest’, ‘quantreg’, ‘lme4’\n",
            "\n",
            "\n",
            "Loading required package: carData\n",
            "\n",
            "\n",
            "Attaching package: ‘car’\n",
            "\n",
            "\n",
            "The following object is masked from ‘package:psych’:\n",
            "\n",
            "    logit\n",
            "\n",
            "\n",
            "The following object is masked from ‘package:dplyr’:\n",
            "\n",
            "    recode\n",
            "\n",
            "\n",
            "The following object is masked from ‘package:purrr’:\n",
            "\n",
            "    some\n",
            "\n",
            "\n"
          ]
        },
        {
          "output_type": "display_data",
          "data": {
            "text/html": [
              "<style>\n",
              ".dl-inline {width: auto; margin:0; padding: 0}\n",
              ".dl-inline>dt, .dl-inline>dd {float: none; width: auto; display: inline-block}\n",
              ".dl-inline>dt::after {content: \":\\0020\"; padding-right: .5ex}\n",
              ".dl-inline>dt:not(:first-of-type) {padding-left: .5ex}\n",
              "</style><dl class=dl-inline><dt>MUSIK</dt><dd>1.41318560373814</dd><dt>MOVIE</dt><dd>1.32636099345492</dd><dt>SUBJECT</dt><dd>1.31929935703176</dd></dl>\n"
            ],
            "text/markdown": "MUSIK\n:   1.41318560373814MOVIE\n:   1.32636099345492SUBJECT\n:   1.31929935703176\n\n",
            "text/latex": "\\begin{description*}\n\\item[MUSIK] 1.41318560373814\n\\item[MOVIE] 1.32636099345492\n\\item[SUBJECT] 1.31929935703176\n\\end{description*}\n",
            "text/plain": [
              "   MUSIK    MOVIE  SUBJECT \n",
              "1.413186 1.326361 1.319299 "
            ]
          },
          "metadata": {}
        }
      ]
    },
    {
      "cell_type": "markdown",
      "source": [
        "Batas nilai $vif=10$ klo kurang dari 10 tanda nya variabel independen MUSIK,MOVIE,SUBJECT tdk memiliki korelasi yg kuat."
      ],
      "metadata": {
        "id": "s55926n9hFoH"
      }
    },
    {
      "cell_type": "markdown",
      "source": [
        "\n",
        "*   Uji Heterokedasitas"
      ],
      "metadata": {
        "id": "80H576MohYfN"
      }
    },
    {
      "cell_type": "code",
      "source": [
        "#Uji Breusch-Pagan\n",
        "install.packages(\"lmtest\")\n",
        "library(lmtest)\n",
        "bptest(modelregresi1)\n",
        "rataan1%>%\n",
        "  ggplot(aes(x=scale(fitvalue), y=studentizedres))+\n",
        "  geom_point()+\n",
        "  theme_bw()"
      ],
      "metadata": {
        "colab": {
          "base_uri": "https://localhost:8080/",
          "height": 819
        },
        "id": "fuUbbQNJhTNZ",
        "outputId": "da1e47f3-d6f8-4393-b85e-919bf7226ed7"
      },
      "execution_count": 38,
      "outputs": [
        {
          "output_type": "stream",
          "name": "stderr",
          "text": [
            "Installing package into ‘/usr/local/lib/R/site-library’\n",
            "(as ‘lib’ is unspecified)\n",
            "\n",
            "also installing the dependency ‘zoo’\n",
            "\n",
            "\n",
            "Loading required package: zoo\n",
            "\n",
            "\n",
            "Attaching package: ‘zoo’\n",
            "\n",
            "\n",
            "The following objects are masked from ‘package:base’:\n",
            "\n",
            "    as.Date, as.Date.numeric\n",
            "\n",
            "\n"
          ]
        },
        {
          "output_type": "display_data",
          "data": {
            "text/plain": [
              "\n",
              "\tstudentized Breusch-Pagan test\n",
              "\n",
              "data:  modelregresi1\n",
              "BP = 1.0531, df = 3, p-value = 0.7884\n"
            ]
          },
          "metadata": {}
        },
        {
          "output_type": "display_data",
          "data": {
            "text/plain": [
              "plot without title"
            ],
            "image/png": "[encoded data removed]"
          },
          "metadata": {
            "image/png": {
              "width": 420,
              "height": 420
            }
          }
        }
      ]
    },
    {
      "cell_type": "markdown",
      "source": [
        "Berdasarkan Uji Breusch-Pagan didapat nilai $pval=0.7884$ artinya model regresi tidak menyalahi syarat heterokedasitas. Pada kurva fitvalue dan studentizedres model dikatakan memenuhi syarat ketika titik-titik data tidak membentuk suatu pola fungsi."
      ],
      "metadata": {
        "id": "IBIHbM__h8x5"
      }
    },
    {
      "cell_type": "markdown",
      "source": [
        "*   **Uji Autokorelasi** :\n",
        "Bertujuan untuk memeriksa apakah residual atau error dari model regresi memiliki korelasi dengan dirinya sendiri pada waktu yang berbeda."
      ],
      "metadata": {
        "id": "bBhFP70Fj-HN"
      }
    },
    {
      "cell_type": "code",
      "source": [
        "dwtest(modelregresi1)\n",
        "summary(modelregresi1)"
      ],
      "metadata": {
        "colab": {
          "base_uri": "https://localhost:8080/",
          "height": 468
        },
        "id": "D0mjJfrmjl7c",
        "outputId": "979e26c6-e548-46e8-fc9e-3d36835981e7"
      },
      "execution_count": 39,
      "outputs": [
        {
          "output_type": "display_data",
          "data": {
            "text/plain": [
              "\n",
              "\tDurbin-Watson test\n",
              "\n",
              "data:  modelregresi1\n",
              "DW = 2.0099, p-value = 0.4993\n",
              "alternative hypothesis: true autocorrelation is greater than 0\n"
            ]
          },
          "metadata": {}
        },
        {
          "output_type": "display_data",
          "data": {
            "text/plain": [
              "\n",
              "Call:\n",
              "lm(formula = TIMEONSCREEN ~ MUSIK + MOVIE + SUBJECT, data = rataan1)\n",
              "\n",
              "Residuals:\n",
              "     Min       1Q   Median       3Q      Max \n",
              "-1.13766 -0.21988  0.00186  0.22946  1.05356 \n",
              "\n",
              "Coefficients:\n",
              "            Estimate Std. Error t value Pr(>|t|)    \n",
              "(Intercept)  1.31551    0.39511   3.329  0.00126 ** \n",
              "MUSIK        0.14743    0.09217   1.600  0.11319    \n",
              "MOVIE        0.12069    0.08041   1.501  0.13687    \n",
              "SUBJECT      0.42780    0.07820   5.470    4e-07 ***\n",
              "---\n",
              "Signif. codes:  0 ‘***’ 0.001 ‘**’ 0.01 ‘*’ 0.05 ‘.’ 0.1 ‘ ’ 1\n",
              "\n",
              "Residual standard error: 0.364 on 90 degrees of freedom\n",
              "Multiple R-squared:  0.4308,\tAdjusted R-squared:  0.4118 \n",
              "F-statistic:  22.7 on 3 and 90 DF,  p-value: 4.941e-11\n"
            ]
          },
          "metadata": {}
        }
      ]
    },
    {
      "cell_type": "markdown",
      "source": [
        "p-value=0.4993>0.05 (lebih besar dari 0,05) menunjukkan bahwa tidak ada bukti cukup untuk menolak hipotesis nol (H0) bahwa tidak ada autokorelasi dalam residual."
      ],
      "metadata": {
        "id": "7bCzy9jol5I0"
      }
    },
    {
      "cell_type": "markdown",
      "source": [
        "3. **Membentuk Model Regresi Intervening** \\\n",
        "Ada dua model regresi yang ditinjau adalah antara lain :\n",
        "\n",
        "*  Model 1  : Model regresi linier GADGET dengan variabel independen MUSIK,MOVIE, SUBJECT, yang dikonstruksi sebelumnya.\n",
        "*  Model 2 : Model regresi linier SUBJECT dengan variabel independen MUSIK dan MOVIE. Disini, model ini digunakan untuk mengetahui hubungan tingkat kegemaran MUSIK dan MOVIE terhadap tingkat kegemaran belajar.\n",
        "Selanjutnya, akan dilakukan pemodelan regresi linier kedua\n",
        "\n"
      ],
      "metadata": {
        "id": "ld24z0SOmnIk"
      }
    },
    {
      "cell_type": "code",
      "source": [
        "install.packages(\"lm.beta\")\n",
        "library(lm.beta)\n",
        "model2<-lm(SUBJECT~MUSIK+MOVIE,data=rataan1)\n",
        "summary(model2)\n",
        "#Uji asumsi klasik\n",
        "lm.beta(model2)\n",
        "lillie.test(model2$residuals)"
      ],
      "metadata": {
        "colab": {
          "base_uri": "https://localhost:8080/",
          "height": 607
        },
        "id": "_IuNoLvTpgvO",
        "outputId": "89348b4a-ea3c-4e20-c293-40477e01d9e3"
      },
      "execution_count": 42,
      "outputs": [
        {
          "output_type": "stream",
          "name": "stderr",
          "text": [
            "Installing package into ‘/usr/local/lib/R/site-library’\n",
            "(as ‘lib’ is unspecified)\n",
            "\n"
          ]
        },
        {
          "output_type": "display_data",
          "data": {
            "text/plain": [
              "\n",
              "Call:\n",
              "lm(formula = SUBJECT ~ MUSIK + MOVIE, data = rataan1)\n",
              "\n",
              "Residuals:\n",
              "     Min       1Q   Median       3Q      Max \n",
              "-1.62725 -0.23099  0.07027  0.33440  0.80349 \n",
              "\n",
              "Coefficients:\n",
              "            Estimate Std. Error t value Pr(>|t|)   \n",
              "(Intercept)   1.6902     0.4991   3.386  0.00105 **\n",
              "MUSIK         0.3917     0.1165   3.361  0.00114 **\n",
              "MOVIE         0.2349     0.1049   2.239  0.02762 * \n",
              "---\n",
              "Signif. codes:  0 ‘***’ 0.001 ‘**’ 0.01 ‘*’ 0.05 ‘.’ 0.1 ‘ ’ 1\n",
              "\n",
              "Residual standard error: 0.4879 on 91 degrees of freedom\n",
              "Multiple R-squared:  0.242,\tAdjusted R-squared:  0.2254 \n",
              "F-statistic: 14.53 on 2 and 91 DF,  p-value: 3.345e-06\n"
            ]
          },
          "metadata": {}
        },
        {
          "output_type": "display_data",
          "data": {
            "text/plain": [
              "\n",
              "Call:\n",
              "lm(formula = SUBJECT ~ MUSIK + MOVIE, data = rataan1)\n",
              "\n",
              "Standardized Coefficients::\n",
              "(Intercept)       MUSIK       MOVIE \n",
              "         NA   0.3439267   0.2290730 \n"
            ]
          },
          "metadata": {}
        },
        {
          "output_type": "display_data",
          "data": {
            "text/plain": [
              "\n",
              "\tLilliefors (Kolmogorov-Smirnov) normality test\n",
              "\n",
              "data:  model2$residuals\n",
              "D = 0.11706, p-value = 0.00287\n"
            ]
          },
          "metadata": {}
        }
      ]
    },
    {
      "cell_type": "markdown",
      "source": [
        "Perhatikan, bahwa residual dari model regresi kedua tidak berdistribusi normal. Oleh karena itu, dilakukan proses eleminasi data outlier dengan cara yang sama seperti sebelumnya"
      ],
      "metadata": {
        "id": "aH92MG8LqHCV"
      }
    },
    {
      "cell_type": "code",
      "source": [
        "boxplot(model2$residuals)"
      ],
      "metadata": {
        "colab": {
          "base_uri": "https://localhost:8080/",
          "height": 437
        },
        "id": "Nu1yzOb3qdOW",
        "outputId": "ad7759d5-cd0d-44ee-bfef-f49b057f8443"
      },
      "execution_count": 43,
      "outputs": [
        {
          "output_type": "display_data",
          "data": {
            "text/plain": [
              "plot without title"
            ],
            "image/png": "[encoded data removed]"
          },
          "metadata": {
            "image/png": {
              "width": 420,
              "height": 420
            }
          }
        }
      ]
    },
    {
      "cell_type": "markdown",
      "source": [
        "Kita perlu mengeluarkan data yang residual nya dibawah -1.\n"
      ],
      "metadata": {
        "id": "Gg5wiyYvqgKt"
      }
    },
    {
      "cell_type": "code",
      "source": [
        "rataan2<-rataan1%>%\n",
        "  mutate(res=model2$residuals)%>%\n",
        "  filter(res>(-1))\n",
        "head(rataan2)"
      ],
      "metadata": {
        "colab": {
          "base_uri": "https://localhost:8080/",
          "height": 286
        },
        "id": "IzkWrI6cqpZO",
        "outputId": "1a1da184-d038-40b5-ea6c-e0afd7d24d97"
      },
      "execution_count": 44,
      "outputs": [
        {
          "output_type": "display_data",
          "data": {
            "text/html": [
              "<table class=\"dataframe\">\n",
              "<caption>A data.frame: 6 × 9</caption>\n",
              "<thead>\n",
              "\t<tr><th></th><th scope=col>STATUS</th><th scope=col>MUSIK</th><th scope=col>MOVIE</th><th scope=col>SUBJECT</th><th scope=col>TIMEONSCREEN</th><th scope=col>residual</th><th scope=col>fitvalue</th><th scope=col>studentizedres</th><th scope=col>res</th></tr>\n",
              "\t<tr><th></th><th scope=col>&lt;int&gt;</th><th scope=col>&lt;dbl&gt;</th><th scope=col>&lt;dbl&gt;</th><th scope=col>&lt;dbl&gt;</th><th scope=col>&lt;dbl&gt;</th><th scope=col>&lt;dbl&gt;</th><th scope=col>&lt;dbl&gt;</th><th scope=col>&lt;dbl&gt;</th><th scope=col>&lt;dbl&gt;</th></tr>\n",
              "</thead>\n",
              "<tbody>\n",
              "\t<tr><th scope=row>1</th><td>2</td><td>3.833333</td><td>4.428571</td><td>4.00</td><td>4.0</td><td>-0.12634092</td><td>4.126341</td><td>-0.3501104</td><td>-0.2319114</td></tr>\n",
              "\t<tr><th scope=row>2</th><td>2</td><td>5.000000</td><td>4.714286</td><td>4.50</td><td>4.4</td><td>-0.14672783</td><td>4.546728</td><td>-0.4093071</td><td>-0.2559663</td></tr>\n",
              "\t<tr><th scope=row>3</th><td>2</td><td>4.833333</td><td>5.000000</td><td>5.00</td><td>5.0</td><td> 0.22946386</td><td>4.770536</td><td> 0.6401726</td><td> 0.2421932</td></tr>\n",
              "\t<tr><th scope=row>4</th><td>2</td><td>4.166667</td><td>5.000000</td><td>5.00</td><td>4.0</td><td>-0.67224684</td><td>4.672247</td><td>-1.9217865</td><td> 0.5033004</td></tr>\n",
              "\t<tr><th scope=row>5</th><td>2</td><td>4.666667</td><td>4.571429</td><td>4.00</td><td>4.0</td><td>-0.26644378</td><td>4.266444</td><td>-0.7432205</td><td>-0.5918541</td></tr>\n",
              "\t<tr><th scope=row>6</th><td>2</td><td>4.500000</td><td>4.714286</td><td>3.75</td><td>4.2</td><td> 0.04783638</td><td>4.152164</td><td> 0.1339432</td><td>-0.8101359</td></tr>\n",
              "</tbody>\n",
              "</table>\n"
            ],
            "text/markdown": "\nA data.frame: 6 × 9\n\n| <!--/--> | STATUS &lt;int&gt; | MUSIK &lt;dbl&gt; | MOVIE &lt;dbl&gt; | SUBJECT &lt;dbl&gt; | TIMEONSCREEN &lt;dbl&gt; | residual &lt;dbl&gt; | fitvalue &lt;dbl&gt; | studentizedres &lt;dbl&gt; | res &lt;dbl&gt; |\n|---|---|---|---|---|---|---|---|---|---|\n| 1 | 2 | 3.833333 | 4.428571 | 4.00 | 4.0 | -0.12634092 | 4.126341 | -0.3501104 | -0.2319114 |\n| 2 | 2 | 5.000000 | 4.714286 | 4.50 | 4.4 | -0.14672783 | 4.546728 | -0.4093071 | -0.2559663 |\n| 3 | 2 | 4.833333 | 5.000000 | 5.00 | 5.0 |  0.22946386 | 4.770536 |  0.6401726 |  0.2421932 |\n| 4 | 2 | 4.166667 | 5.000000 | 5.00 | 4.0 | -0.67224684 | 4.672247 | -1.9217865 |  0.5033004 |\n| 5 | 2 | 4.666667 | 4.571429 | 4.00 | 4.0 | -0.26644378 | 4.266444 | -0.7432205 | -0.5918541 |\n| 6 | 2 | 4.500000 | 4.714286 | 3.75 | 4.2 |  0.04783638 | 4.152164 |  0.1339432 | -0.8101359 |\n\n",
            "text/latex": "A data.frame: 6 × 9\n\\begin{tabular}{r|lllllllll}\n  & STATUS & MUSIK & MOVIE & SUBJECT & TIMEONSCREEN & residual & fitvalue & studentizedres & res\\\\\n  & <int> & <dbl> & <dbl> & <dbl> & <dbl> & <dbl> & <dbl> & <dbl> & <dbl>\\\\\n\\hline\n\t1 & 2 & 3.833333 & 4.428571 & 4.00 & 4.0 & -0.12634092 & 4.126341 & -0.3501104 & -0.2319114\\\\\n\t2 & 2 & 5.000000 & 4.714286 & 4.50 & 4.4 & -0.14672783 & 4.546728 & -0.4093071 & -0.2559663\\\\\n\t3 & 2 & 4.833333 & 5.000000 & 5.00 & 5.0 &  0.22946386 & 4.770536 &  0.6401726 &  0.2421932\\\\\n\t4 & 2 & 4.166667 & 5.000000 & 5.00 & 4.0 & -0.67224684 & 4.672247 & -1.9217865 &  0.5033004\\\\\n\t5 & 2 & 4.666667 & 4.571429 & 4.00 & 4.0 & -0.26644378 & 4.266444 & -0.7432205 & -0.5918541\\\\\n\t6 & 2 & 4.500000 & 4.714286 & 3.75 & 4.2 &  0.04783638 & 4.152164 &  0.1339432 & -0.8101359\\\\\n\\end{tabular}\n",
            "text/plain": [
              "  STATUS MUSIK    MOVIE    SUBJECT TIMEONSCREEN residual    fitvalue\n",
              "1 2      3.833333 4.428571 4.00    4.0          -0.12634092 4.126341\n",
              "2 2      5.000000 4.714286 4.50    4.4          -0.14672783 4.546728\n",
              "3 2      4.833333 5.000000 5.00    5.0           0.22946386 4.770536\n",
              "4 2      4.166667 5.000000 5.00    4.0          -0.67224684 4.672247\n",
              "5 2      4.666667 4.571429 4.00    4.0          -0.26644378 4.266444\n",
              "6 2      4.500000 4.714286 3.75    4.2           0.04783638 4.152164\n",
              "  studentizedres res       \n",
              "1 -0.3501104     -0.2319114\n",
              "2 -0.4093071     -0.2559663\n",
              "3  0.6401726      0.2421932\n",
              "4 -1.9217865      0.5033004\n",
              "5 -0.7432205     -0.5918541\n",
              "6  0.1339432     -0.8101359"
            ]
          },
          "metadata": {}
        }
      ]
    },
    {
      "cell_type": "markdown",
      "source": [
        "Tahap berikutnya, kita akan memodelkan regresi linier yang memuat data-data yang terbebas dari residual outlier baik untuk model 1 dan model 2,"
      ],
      "metadata": {
        "id": "bSfmrhX3qwlo"
      }
    },
    {
      "cell_type": "code",
      "source": [
        "\n",
        "library(lm.beta)\n",
        "model1f<-lm(TIMEONSCREEN~MUSIK+MOVIE+SUBJECT,data=rataan2)\n",
        "summary(model1f)\n",
        "model1fkoef<-summary(lm.beta(model1f))\n",
        "model1fkoef"
      ],
      "metadata": {
        "colab": {
          "base_uri": "https://localhost:8080/",
          "height": 711
        },
        "id": "ipy8N7o_rrnV",
        "outputId": "7f3feb1f-c054-4257-e1cd-6af5754a8a76"
      },
      "execution_count": 50,
      "outputs": [
        {
          "output_type": "display_data",
          "data": {
            "text/plain": [
              "\n",
              "Call:\n",
              "lm(formula = TIMEONSCREEN ~ MUSIK + MOVIE + SUBJECT, data = rataan2)\n",
              "\n",
              "Residuals:\n",
              "    Min      1Q  Median      3Q     Max \n",
              "-1.1405 -0.2242 -0.0187  0.2439  1.0006 \n",
              "\n",
              "Coefficients:\n",
              "            Estimate Std. Error t value Pr(>|t|)    \n",
              "(Intercept)  1.48259    0.41079   3.609 0.000515 ***\n",
              "MUSIK        0.15916    0.09352   1.702 0.092385 .  \n",
              "MOVIE        0.11818    0.08449   1.399 0.165508    \n",
              "SUBJECT      0.38267    0.09826   3.895 0.000194 ***\n",
              "---\n",
              "Signif. codes:  0 ‘***’ 0.001 ‘**’ 0.01 ‘*’ 0.05 ‘.’ 0.1 ‘ ’ 1\n",
              "\n",
              "Residual standard error: 0.3637 on 86 degrees of freedom\n",
              "Multiple R-squared:  0.3714,\tAdjusted R-squared:  0.3495 \n",
              "F-statistic: 16.94 on 3 and 86 DF,  p-value: 9.882e-09\n"
            ]
          },
          "metadata": {}
        },
        {
          "output_type": "display_data",
          "data": {
            "text/plain": [
              "\n",
              "Call:\n",
              "lm(formula = TIMEONSCREEN ~ MUSIK + MOVIE + SUBJECT, data = rataan2)\n",
              "\n",
              "Residuals:\n",
              "    Min      1Q  Median      3Q     Max \n",
              "-1.1405 -0.2242 -0.0187  0.2439  1.0006 \n",
              "\n",
              "Coefficients:\n",
              "            Estimate Standardized Std. Error t value Pr(>|t|)    \n",
              "(Intercept)  1.48259           NA    0.41079   3.609 0.000515 ***\n",
              "MUSIK        0.15916      0.17486    0.09352   1.702 0.092385 .  \n",
              "MOVIE        0.11818      0.14254    0.08449   1.399 0.165508    \n",
              "SUBJECT      0.38267      0.41033    0.09826   3.895 0.000194 ***\n",
              "---\n",
              "Signif. codes:  0 ‘***’ 0.001 ‘**’ 0.01 ‘*’ 0.05 ‘.’ 0.1 ‘ ’ 1\n",
              "\n",
              "Residual standard error: 0.3637 on 86 degrees of freedom\n",
              "Multiple R-squared:  0.3714,\tAdjusted R-squared:  0.3495 \n",
              "F-statistic: 16.94 on 3 and 86 DF,  p-value: 9.882e-09\n"
            ]
          },
          "metadata": {}
        }
      ]
    },
    {
      "cell_type": "markdown",
      "source": [
        "Didapatkan model regresi linier sebagai berikut\n",
        "$$Y=1.48259+0.15916 X_{1}+ 0.11818 X_{2}+0.38267 X_{3}$$\n",
        "dengan $Y$:Lamanya konsumsi gadget, $X_{1}$: Tingkat kegemaran responden terhadap musik,$X_{2}$: Tingkat kegemaran responden terhadap film, $X_{3}$ tingkat kegemaran sesorang terhadap Pelajaran."
      ],
      "metadata": {
        "id": "-Zv5VQ3SsOTm"
      }
    },
    {
      "cell_type": "markdown",
      "source": [
        "Selanjutnya, untuk model 2\n"
      ],
      "metadata": {
        "id": "OqZbmsgWsfge"
      }
    },
    {
      "cell_type": "code",
      "source": [
        "model2x <- lm(SUBJECT~MUSIK + MOVIE, data=rataan2)\n",
        "summary(lm.beta(model2x))\n",
        "\n",
        "lillie.test(model2x$residuals)#Residual terdistribusi normal pval=0.9952>0.05\n",
        "bptest(model2x)"
      ],
      "metadata": {
        "colab": {
          "base_uri": "https://localhost:8080/",
          "height": 520
        },
        "id": "ChHWC6WHtBwX",
        "outputId": "5121346a-fef8-45ba-e944-0c97b7c85e44"
      },
      "execution_count": 52,
      "outputs": [
        {
          "output_type": "display_data",
          "data": {
            "text/plain": [
              "\n",
              "Call:\n",
              "lm(formula = SUBJECT ~ MUSIK + MOVIE, data = rataan2)\n",
              "\n",
              "Residuals:\n",
              "     Min       1Q   Median       3Q      Max \n",
              "-1.04381 -0.24498  0.07542  0.30994  0.74835 \n",
              "\n",
              "Coefficients:\n",
              "            Estimate Standardized Std. Error t value Pr(>|t|)    \n",
              "(Intercept)  1.68771           NA    0.41007   4.116 8.75e-05 ***\n",
              "MUSIK        0.34586      0.35437    0.09506   3.638 0.000465 ***\n",
              "MOVIE        0.29513      0.33198    0.08659   3.408 0.000992 ***\n",
              "---\n",
              "Signif. codes:  0 ‘***’ 0.001 ‘**’ 0.01 ‘*’ 0.05 ‘.’ 0.1 ‘ ’ 1\n",
              "\n",
              "Residual standard error: 0.3968 on 87 degrees of freedom\n",
              "Multiple R-squared:  0.3416,\tAdjusted R-squared:  0.3265 \n",
              "F-statistic: 22.57 on 2 and 87 DF,  p-value: 1.271e-08\n"
            ]
          },
          "metadata": {}
        },
        {
          "output_type": "display_data",
          "data": {
            "text/plain": [
              "\n",
              "\tLilliefors (Kolmogorov-Smirnov) normality test\n",
              "\n",
              "data:  model2x$residuals\n",
              "D = 0.087333, p-value = 0.08691\n"
            ]
          },
          "metadata": {}
        },
        {
          "output_type": "display_data",
          "data": {
            "text/plain": [
              "\n",
              "\tstudentized Breusch-Pagan test\n",
              "\n",
              "data:  model2x\n",
              "BP = 0.17045, df = 2, p-value = 0.9183\n"
            ]
          },
          "metadata": {}
        }
      ]
    },
    {
      "cell_type": "markdown",
      "source": [
        "Tampak bahwa berdasarkan uji Kolmogrov-Smirnov didapat p-value = 0.08691>0.05 artinya data residual terdistribusi normal(memenuhi asumsi).Sehingga, model regresi 2 adalah ⁉\n",
        "\n",
        "$$X_{3}=1.68771+0.34586 X_{2}+ 0.29513 X_{1}$$\n",
        "dengan $X_{1}$: Tingkat kegemaran responden terhadap musik,$X_{2}$: Tingkat kegemaran responden terhadap film, $X_{3}$ tingkat kegemaran sesorang terhadap Pelajaran."
      ],
      "metadata": {
        "id": "JDwZR_D0tNhn"
      }
    },
    {
      "cell_type": "markdown",
      "source": [
        "4. SEM Plot"
      ],
      "metadata": {
        "id": "ZSlxD8AWuKw9"
      }
    },
    {
      "cell_type": "code",
      "source": [
        "install.packages(\"semPlot\")"
      ],
      "metadata": {
        "colab": {
          "base_uri": "https://localhost:8080/",
          "height": 0
        },
        "id": "HrtWCERxx2YY",
        "outputId": "035bcc8a-5d8d-42e5-e317-4f979e35de5c"
      },
      "execution_count": 58,
      "outputs": [
        {
          "output_type": "stream",
          "name": "stderr",
          "text": [
            "Installing package into ‘/usr/local/lib/R/site-library’\n",
            "(as ‘lib’ is unspecified)\n",
            "\n",
            "also installing the dependency ‘OpenMx’\n",
            "\n",
            "\n"
          ]
        }
      ]
    },
    {
      "cell_type": "code",
      "source": [
        "\n",
        "library(semPlot)\n",
        "semPaths(list(model1f,model2x),what='std', intercepts = F, layout = 'tree',\n",
        "         style = 'lisrel',edge.label.cex = 2.5, sizeMan = 10, rotation = 3,\n",
        "         edge.label.position = 0.3)"
      ],
      "metadata": {
        "colab": {
          "base_uri": "https://localhost:8080/",
          "height": 437
        },
        "id": "vnwFlN45uUEg",
        "outputId": "83ac3a7e-7d08-4f81-e30f-86a7bcf439b9"
      },
      "execution_count": 60,
      "outputs": [
        {
          "output_type": "display_data",
          "data": {
            "text/plain": [
              "plot without title"
            ],
            "image/png": "[encoded data removed]"
          },
          "metadata": {
            "image/png": {
              "width": 420,
              "height": 420
            }
          }
        }
      ]
    },
    {
      "cell_type": "markdown",
      "source": [
        "5. KESIMPULAN\n",
        "Diagram SEM Plot ini menunjukkan bahwa\n",
        "1. TIM=TIME merupakan $0.14*MOV+0.17*MUS+0.41*SUB$ yang artinya waktu konsumsi gadget sangat dipengaruhi oleh minat belajar,\n",
        "2. SUB=SUBJECT merupakan $0.33*MOV+0.35*MUS$ yang artinya tingkat minat belajar paling dipengaruhi oleh tingkat minat menonton film."
      ],
      "metadata": {
        "id": "lbMVcIX84IaA"
      }
    }
  ]
}